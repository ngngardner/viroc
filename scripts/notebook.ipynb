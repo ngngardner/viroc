{
 "cells": [
  {
   "cell_type": "code",
   "execution_count": null,
   "id": "cf5227f0",
   "metadata": {},
   "outputs": [],
   "source": [
    "import glob\n",
    "import random\n",
    "\n",
    "from IPython.display import display\n",
    "from PIL import Image\n",
    "\n",
    "from viroc.dataset import dataset_path\n",
    "from viroc.imaging import extract_bounding_box, visualize_bounding_box\n",
    "from viroc.models import GOTOCRModel, YOLOModel\n"
   ]
  },
  {
   "cell_type": "code",
   "execution_count": null,
   "id": "72ee199f",
   "metadata": {},
   "outputs": [],
   "source": [
    "# dataset_path = dataset_path.parent / \"ccpd_weather\"\n",
    "dataset_path = dataset_path.parent / \"ccpd_base\""
   ]
  },
  {
   "cell_type": "code",
   "execution_count": null,
   "id": "2edc346b",
   "metadata": {},
   "outputs": [],
   "source": [
    "imgs = glob.glob(str(dataset_path / \"*.jpg\"))"
   ]
  },
  {
   "cell_type": "code",
   "execution_count": null,
   "id": "d1d368b1",
   "metadata": {},
   "outputs": [],
   "source": [
    "model = YOLOModel()\n",
    "ocr_model = GOTOCRModel()"
   ]
  },
  {
   "cell_type": "code",
   "execution_count": null,
   "id": "5d42c9ed",
   "metadata": {},
   "outputs": [],
   "source": [
    "stitch_image = \"/home/noah/projects2/viroc/test/stitch.jpg\""
   ]
  },
  {
   "cell_type": "code",
   "execution_count": null,
   "id": "cce80401",
   "metadata": {},
   "outputs": [],
   "source": [
    "def ocr_demo(img: Image.Image):\n",
    "    pil_image = Image.open(img)\n",
    "    # display(pil_image)\n",
    "\n",
    "    # get bounding boxes\n",
    "    bbs = model.get_bounding_boxes(pil_image, threshold=0.05, overlap_tolerance=0.30)\n",
    "    print(f\"Found {len(bbs)} bounding boxes\")\n",
    "    for i, bb in enumerate(bbs):\n",
    "        print(f\"Bounding box {i}: {bb}\")\n",
    "        display(visualize_bounding_box(pil_image.copy(), bb))\n",
    "\n",
    "        plate = extract_bounding_box(pil_image, bb)\n",
    "        display(plate)\n",
    "\n",
    "        # run OCR on plate\n",
    "        generated_text = ocr_model.predict(plate)\n",
    "        print(f\"Generated text: {generated_text}\")\n",
    "\n",
    "\n",
    "ocr_demo(stitch_image)\n"
   ]
  },
  {
   "cell_type": "code",
   "execution_count": null,
   "id": "4ba6e844",
   "metadata": {},
   "outputs": [],
   "source": [
    "random_indices = random.sample(range(len(imgs)), 5)\n",
    "\n",
    "for i in random_indices:\n",
    "    ocr_demo(imgs[i])"
   ]
  }
 ],
 "metadata": {
  "kernelspec": {
   "display_name": ".venv",
   "language": "python",
   "name": "python3"
  },
  "language_info": {
   "codemirror_mode": {
    "name": "ipython",
    "version": 3
   },
   "file_extension": ".py",
   "mimetype": "text/x-python",
   "name": "python",
   "nbconvert_exporter": "python",
   "pygments_lexer": "ipython3",
   "version": "3.12.9"
  }
 },
 "nbformat": 4,
 "nbformat_minor": 5
}
